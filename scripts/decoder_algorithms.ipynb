{
 "cells": [
  {
   "cell_type": "code",
   "execution_count": 1,
   "metadata": {},
   "outputs": [],
   "source": [
    "import numpy as np"
   ]
  },
  {
   "cell_type": "code",
   "execution_count": 2,
   "metadata": {},
   "outputs": [],
   "source": [
    "def P(state): #The sentence example where we have maskings for each state (non-markovian assumption)\n",
    "    if state == \"START\":\n",
    "        return [(\"the\",\"a\"), (0.5, 0.5)]\n",
    "    elif state == \"the\":\n",
    "        return [(\"cat\",\"dog\",\"mouse\" ),(0.4, 0.3, 0.3)]\n",
    "    elif state == \"a\":\n",
    "        return [(\"dog\",\"cat\" ), (0.5, 0.5)]\n",
    "    elif state == \"cat\":\n",
    "        return [(\"jumped\",\"slept\",'ran' ), (0.4, 0.5,0.1)]\n",
    "    elif state == \"dog\":\n",
    "        return [(\"barked\",\"slept\" ), (0.6, 0.4)]\n",
    "    elif state == \"mouse\":\n",
    "        return [(\"squeaked\",\"slept\" ), (0.7, 0.3)]\n",
    "    elif state == \"jumped\":\n",
    "        return [(\"over\",\"on\",'near' ), (0.3, 0.4, 0.3)]\n",
    "    elif state == \"on\":\n",
    "        return [(\"the\",\"a\" ), (0.6, 0.4)]\n",
    "    elif state == \"squeaked\":\n",
    "        return [(\"under\",\"near\" ), (0.8, 0.2)]\n",
    "    elif state == \"over\":\n",
    "        return [(\"the\",\"a\" ), (0.6, 0.4)]\n",
    "    elif state == \"barked\":\n",
    "        return [(\"loudly\",\"quietly\",'violently' ), (0.4, 0.4,0.2)]\n",
    "    elif state == \"loudly\":\n",
    "        return [(\"EOS\",\"quietly\" ), (0.5, 0.5)]\n",
    "    elif state == \"quietly\":\n",
    "        return [(\"EOS\",\"loudly\" ), (0.5, 0.5)]\n",
    "    elif state == \"slept\":\n",
    "        return [(\"for\",\"while\" ), (0.5, 0.5)]\n",
    "    elif state == \"for\":\n",
    "        return [(\"a\",\"the\" ), (0.6, 0.4)]\n",
    "    elif state == \"while\":\n",
    "        return [(\"a\",\"the\" ), (0.4, 0.6)]\n",
    "    elif state == \"under\":\n",
    "        return [(\"a\",\"the\" ), (0.7, 0.3)]\n",
    "    elif state == \"near\":\n",
    "        return [(\"a\",\"the\" ), (0.5, 0.5)]\n",
    "    elif state == 'ran':\n",
    "        return [(\"over\",\"on\" ), (0.3, 0.7)]\n",
    "    elif state == 'violently':\n",
    "        return [(\"at\",\"while\" ), (0.1, 0.9)]\n",
    "    elif state == 'at':\n",
    "        return [(\"the\" ), (1)]\n",
    "    else:\n",
    "        return []"
   ]
  },
  {
   "cell_type": "code",
   "execution_count": 3,
   "metadata": {},
   "outputs": [],
   "source": [
    "def score_func(strip,length_penalty): #Function to score the current sequence\n",
    "    curr_tkn = strip[0]\n",
    "    score = 0\n",
    "    for pos in range(0,len(strip)-1):\n",
    "        nxt_tkn = strip[pos+1]\n",
    "        jump_score = [i for i in range(len(P(curr_tkn)[0])) if P(curr_tkn)[0][i] == nxt_tkn][0]\n",
    "        score = score - np.log(P(curr_tkn)[1][jump_score])/(pos+1) ** length_penalty\n",
    "        curr_tkn = nxt_tkn\n",
    "    return score\n"
   ]
  },
  {
   "cell_type": "code",
   "execution_count": 4,
   "metadata": {},
   "outputs": [],
   "source": [
    "class BeamSearch: #vanilla version of beamsearch (similar to what is implemented in the Transformer)\n",
    "    def __init__(self, decoder_func, beam_size=2, max_length=10, length_penalty=0.6):\n",
    "        self.decoder_func = decoder_func #Function that returns next tokens and scores\n",
    "        self.beam_size = beam_size #Width k of the beam\n",
    "        self.max_length = max_length #Max length of the sequence\n",
    "        self.length_penalty = length_penalty #Parameter to penalize the length of the sequence\n",
    "\n",
    "    def beam_search(self, initial_state):\n",
    "        beams = [(np.array([initial_state]), 0)] #sequence, prob\n",
    "\n",
    "        for _ in range(self.max_length):\n",
    "            new_beams = []\n",
    "\n",
    "            for current_seq, score in beams:\n",
    "                if current_seq[-1] == 'EOS':\n",
    "                    new_beams.append((current_seq,score))\n",
    "                    continue\n",
    "                \n",
    "                tokens,probs = self.decoder_func(current_seq[-1])\n",
    "                log_probs = np.log(probs)\n",
    "                max_args = np.argsort(log_probs)[-self.beam_size:]\n",
    "\n",
    "                for arg in max_args:\n",
    "                    next_token = tokens[arg]\n",
    "                    new_seq = np.append(current_seq, next_token)\n",
    "                    new_score = score - log_probs[arg] / len(new_seq) ** self.length_penalty\n",
    "                    new_beams.append((new_seq, new_score))\n",
    "\n",
    "            beams = sorted(new_beams, key=lambda x: x[1])[:self.beam_size]\n",
    "\n",
    "        return beams\n"
   ]
  },
  {
   "cell_type": "code",
   "execution_count": 12,
   "metadata": {},
   "outputs": [
    {
     "data": {
      "text/plain": [
       "[(-2.0774357808251827, ['START', 'a', 'dog', 'barked', 'loudly', 'EOS']),\n",
       " (-2.0774357808251827, ['START', 'a', 'dog', 'barked', 'loudly', 'quietly']),\n",
       " (-1.8135333087486334, ['START', 'a', 'dog', 'barked', 'quietly']),\n",
       " (-0.6931471805599453, ['START', 'the'])]"
      ]
     },
     "execution_count": 12,
     "metadata": {},
     "output_type": "execute_result"
    }
   ],
   "source": [
    "import heapq\n",
    "\n",
    "class A_Star_BeamSearch: #The proposed method for this deliverable (an enhanced Beam search)\n",
    "    def __init__(self, x,score, heuristic_func,stop, beam_size=2, max_length=10, length_penalty=0.6):\n",
    "        self.x = x #Function that returns next tokens and scores\n",
    "        self.score = score #score function assuming additive costs\n",
    "        self.heuristic_func = heuristic_func #Function to work with possible modification of scores\n",
    "        self.stop = stop #Stopping function returns True or False, and takes Q as input\n",
    "        self.beam_size = beam_size #Width k of the beam\n",
    "        self.max_length = max_length #Max length of the sequence\n",
    "        self.length_penalty = length_penalty #Parameter to penalize the length of the sequence\n",
    "        self.Q = []\n",
    "\n",
    "    def beam_search(self, initial_state):\n",
    "        heapq.heappush(self.Q,(0,[initial_state]))\n",
    "        POPS = {}\n",
    "        while (len(self.Q) > 0) and (self.stop(self.Q) == False):\n",
    "            s_h,y = heapq.heappop(self.Q)\n",
    "            s_h = s_h*-1\n",
    "            if tuple(y) not in POPS.keys():\n",
    "                POPS[tuple(y)] = 0\n",
    "            if (POPS[tuple(y)] >= self.beam_size) or (len(y) > self.max_length):\n",
    "                continue\n",
    "            POPS[tuple(y)] += 1\n",
    "            if y[-1] == 'EOS':\n",
    "                y.append('EOS')\n",
    "                heapq.heappush(self.Q,(-s_h,y))\n",
    "            else:\n",
    "                tokens,_ = self.x(y[-1])\n",
    "                for token in tokens:\n",
    "                    y_temp = y+[token]\n",
    "                    s = score_func(y_temp,self.length_penalty)\n",
    "                    s_h = s+ self.heuristic_func(y_temp)\n",
    "                    heapq.heappush(self.Q,(-s_h,y_temp))\n",
    "\n",
    "        return self.Q\n",
    "\n",
    "def stop_funct(Q):\n",
    "    if Q[0][1][-1] == 'EOS':\n",
    "        return True\n",
    "    else:\n",
    "        return False\n",
    "\n",
    "def heuristic_func(y):\n",
    "    return 0\n",
    "\n",
    "abeamSearch = A_Star_BeamSearch(P,score_func,heuristic_func,stop_funct,1,5,0.6)\n",
    "sequence = abeamSearch.beam_search('START')\n",
    "sequence"
   ]
  },
  {
   "cell_type": "code",
   "execution_count": 13,
   "metadata": {},
   "outputs": [
    {
     "name": "stdout",
     "output_type": "stream",
     "text": [
      "Decoded sequence: [(array(['START', 'a', 'cat', 'slept', 'while', 'the'], dtype='<U5'), 1.555805293055767)]\n"
     ]
    }
   ],
   "source": [
    "# Example usage\n",
    "beam_search = BeamSearch(P, beam_size=1, max_length=5, length_penalty=0.6)\n",
    "initial_state = \"START\"  # initial state\n",
    "decoded_sequence = beam_search.beam_search(initial_state)\n",
    "\n",
    "print(\"Decoded sequence:\", decoded_sequence)"
   ]
  }
 ],
 "metadata": {
  "kernelspec": {
   "display_name": "eecs545",
   "language": "python",
   "name": "python3"
  },
  "language_info": {
   "codemirror_mode": {
    "name": "ipython",
    "version": 3
   },
   "file_extension": ".py",
   "mimetype": "text/x-python",
   "name": "python",
   "nbconvert_exporter": "python",
   "pygments_lexer": "ipython3",
   "version": "3.11.7"
  }
 },
 "nbformat": 4,
 "nbformat_minor": 2
}
