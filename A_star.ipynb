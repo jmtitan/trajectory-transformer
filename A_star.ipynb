{
 "cells": [
  {
   "cell_type": "code",
   "execution_count": 47,
   "metadata": {},
   "outputs": [],
   "source": [
    "import numpy as np\n",
    "import pandas as pd\n",
    "import heapq"
   ]
  },
  {
   "cell_type": "code",
   "execution_count": 241,
   "metadata": {},
   "outputs": [],
   "source": [
    "n_steps = 10\n",
    "beam_width = 6\n",
    "n_expand = 20"
   ]
  },
  {
   "cell_type": "code",
   "execution_count": 242,
   "metadata": {},
   "outputs": [],
   "source": [
    "def add_noise(x):\n",
    "    return np.round(x+np.random.random()*10,0)\n",
    "def repeat_sample(n_expand,seq,sh):\n",
    "    rows = []\n",
    "    for _ in range(n_expand):\n",
    "        rows.append({'seq':seq+[int(add_noise(0))],'r':add_noise(sh)})\n",
    "    seq_df = pd.DataFrame(rows)\n",
    "    return seq_df"
   ]
  },
  {
   "cell_type": "code",
   "execution_count": 243,
   "metadata": {},
   "outputs": [
    {
     "data": {
      "text/plain": [
       "(array([-inf,   9.,  18.,  28.,  38.,  46.,  56.,  65.,  74.,  84.,  93.]),\n",
       " {0: [],\n",
       "  1: [(8.0, [0, 2]),\n",
       "   (8.0, [0, 7]),\n",
       "   (8.0, [0, 9]),\n",
       "   (9.0, [0, 5]),\n",
       "   (9.0, [0, 7])],\n",
       "  2: [(18.0, [0, 8, 0]),\n",
       "   (18.0, [0, 8, 1]),\n",
       "   (18.0, [0, 8, 1]),\n",
       "   (18.0, [0, 8, 1]),\n",
       "   (18.0, [0, 8, 10])],\n",
       "  3: [(26.0, [0, 8, 6, 9]),\n",
       "   (27.0, [0, 8, 6, 4]),\n",
       "   (27.0, [0, 8, 6, 6]),\n",
       "   (28.0, [0, 8, 6, 5]),\n",
       "   (28.0, [0, 8, 6, 7])],\n",
       "  4: [(37.0, [0, 8, 6, 6, 6]),\n",
       "   (37.0, [0, 8, 6, 6, 6]),\n",
       "   (37.0, [0, 8, 6, 6, 8]),\n",
       "   (38.0, [0, 8, 6, 6, 4]),\n",
       "   (38.0, [0, 8, 6, 6, 5])],\n",
       "  5: [(45.0, [0, 8, 6, 6, 9, 9]),\n",
       "   (46.0, [0, 8, 6, 6, 9, 1]),\n",
       "   (46.0, [0, 8, 6, 6, 9, 3]),\n",
       "   (46.0, [0, 8, 6, 6, 9, 7]),\n",
       "   (46.0, [0, 8, 6, 6, 9, 9])],\n",
       "  6: [(54.0, [0, 8, 6, 6, 9, 8, 3]),\n",
       "   (55.0, [0, 8, 6, 6, 9, 8, 5]),\n",
       "   (56.0, [0, 8, 6, 6, 9, 8, 1]),\n",
       "   (56.0, [0, 8, 6, 6, 9, 8, 4]),\n",
       "   (56.0, [0, 8, 6, 6, 9, 8, 8])],\n",
       "  7: [(62.0, [0, 8, 6, 6, 9, 8, 10, 10]),\n",
       "   (64.0, [0, 8, 6, 6, 9, 8, 10, 3]),\n",
       "   (64.0, [0, 8, 6, 6, 9, 8, 10, 9]),\n",
       "   (65.0, [0, 8, 6, 6, 9, 8, 10, 8]),\n",
       "   (65.0, [0, 8, 6, 6, 9, 8, 10, 8])],\n",
       "  8: [(72.0, [0, 8, 6, 6, 9, 8, 10, 3, 4]),\n",
       "   (73.0, [0, 8, 6, 6, 9, 8, 10, 3, 1]),\n",
       "   (73.0, [0, 8, 6, 6, 9, 8, 10, 3, 3]),\n",
       "   (74.0, [0, 8, 6, 6, 9, 8, 10, 3, 5]),\n",
       "   (74.0, [0, 8, 6, 6, 9, 8, 10, 3, 10])],\n",
       "  9: [(81.0, [0, 8, 6, 6, 9, 8, 10, 3, 5, 8]),\n",
       "   (82.0, [0, 8, 6, 6, 9, 8, 10, 3, 5, 1]),\n",
       "   (82.0, [0, 8, 6, 6, 9, 8, 10, 3, 5, 9]),\n",
       "   (84.0, [0, 8, 6, 6, 9, 8, 10, 3, 5, 7]),\n",
       "   (84.0, [0, 8, 6, 6, 9, 8, 10, 3, 5, 8])],\n",
       "  10: [(92.0, [0, 8, 6, 6, 9, 8, 10, 3, 5, 9, 1]),\n",
       "   (92.0, [0, 8, 6, 6, 9, 8, 10, 3, 5, 9, 4]),\n",
       "   (92.0, [0, 8, 6, 6, 9, 8, 10, 3, 5, 9, 4]),\n",
       "   (92.0, [0, 8, 6, 6, 9, 8, 10, 3, 5, 9, 6]),\n",
       "   (93.0, [0, 8, 6, 6, 9, 8, 10, 3, 5, 9, 3]),\n",
       "   (93.0, [0, 8, 6, 6, 9, 8, 10, 3, 5, 9, 9])]})"
      ]
     },
     "execution_count": 243,
     "metadata": {},
     "output_type": "execute_result"
    }
   ],
   "source": [
    "big_Q = np.ones(n_steps+1)*-np.infty\n",
    "d = {}\n",
    "rew_0 = 0\n",
    "init = 0 #initial action in sequence\n",
    "init_heap = [(rew_0,[init])]\n",
    "big_Q[init] = rew_0\n",
    "d[init] = init_heap #initialize the heap\n",
    "POPS = {}\n",
    "while n_steps not in d.keys(): #as long as the beams have not reached the n_steps length\n",
    "    queue_sort = np.argsort(big_Q)\n",
    "    t = queue_sort[-1]\n",
    "    sh,seq = d[t][-1]\n",
    "    d[t] = d[t][0:-1]\n",
    "    d[t].sort()\n",
    "    if len(d[t]) == 0:\n",
    "        big_Q[t] = -np.infty\n",
    "    else:\n",
    "        best_remaining_sh = d[t][-1][0]\n",
    "        big_Q[t] = best_remaining_sh\n",
    "\n",
    "    if t not in POPS:\n",
    "        POPS[t] = 0\n",
    "\n",
    "    if POPS[t] >= beam_width or t > n_steps:\n",
    "        continue\n",
    "    POPS[t] += 1\n",
    "\n",
    "    seq_df = repeat_sample(n_expand,seq,sh)\n",
    "    for idx,row in seq_df.iterrows():\n",
    "        seq_i,rew_i = row['seq'],row['r']\n",
    "        \n",
    "    #     #Check if t+1 is in d\n",
    "        if t+1 in d.keys():\n",
    "            if len(d[t+1]) < beam_width:\n",
    "                d[t+1].append((rew_i,seq_i))\n",
    "                d[t+1].sort()\n",
    "            else: #We have to check for dominated sequences\n",
    "                if d[t+1][0][0] < rew_i: #We replace them\n",
    "                    d[t+1][0] =  (rew_i,seq_i)\n",
    "                    d[t+1].sort()\n",
    "        else: #we need toq initialize B_t+1\n",
    "            init_heap = [(rew_i,seq_i)]\n",
    "            d[t+1] = init_heap\n",
    "    best_sh_t1 = d[t+1][-1][0]\n",
    "    big_Q[t+1] = best_sh_t1\n",
    "big_Q,d\n",
    "    "
   ]
  }
 ],
 "metadata": {
  "kernelspec": {
   "display_name": "base",
   "language": "python",
   "name": "python3"
  },
  "language_info": {
   "codemirror_mode": {
    "name": "ipython",
    "version": 3
   },
   "file_extension": ".py",
   "mimetype": "text/x-python",
   "name": "python",
   "nbconvert_exporter": "python",
   "pygments_lexer": "ipython3",
   "version": "3.11.7"
  }
 },
 "nbformat": 4,
 "nbformat_minor": 2
}
