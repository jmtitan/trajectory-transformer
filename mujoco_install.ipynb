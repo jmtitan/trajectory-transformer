{
  "cells": [
    {
      "cell_type": "markdown",
      "metadata": {
        "id": "Euib_RmfOiT3"
      },
      "source": [
        "## install mujoco-py and D4RL\n",
        "\n",
        "* **Restart Runtime** after running this block to complete D4RL setup\n"
      ]
    },
    {
      "cell_type": "code",
      "execution_count": null,
      "metadata": {
        "id": "DAGCHznQs2bI"
      },
      "outputs": [],
      "source": [
        "\n",
        "###### libs for install ######\n",
        "\n",
        "\n",
        "!sudo apt-get update\n",
        "!sudo apt-get install gcc\n",
        "\n",
        "!sudo apt-get build-dep mesa\n",
        "!sudo apt-get install llvm-dev\n",
        "!sudo apt-get install freeglut3 freeglut3-dev\n",
        "\n",
        "!sudo apt-get install python3-dev\n",
        "\n",
        "!sudo apt-get install build-essential\n",
        "\n",
        "!sudo apt install curl git libgl1-mesa-dev libgl1-mesa-glx libglew-dev \\\n",
        "        libosmesa6-dev software-properties-common net-tools unzip vim \\\n",
        "        virtualenv wget xpra xserver-xorg-dev libglfw3-dev patchelf\n",
        "\n",
        "#!sudo apt-get install -y libglew-dev\n",
        "\n"
      ]
    },
    {
      "cell_type": "code",
      "execution_count": null,
      "metadata": {
        "id": "23eqLoV_orip"
      },
      "outputs": [],
      "source": [
        "\n",
        "###### mujoco setup ######\n",
        "\n",
        "\n",
        "#!wget https://mujoco.org/download/mujoco210-linux-x86_64.tar.gz\n",
        "\n",
        "!wget https://roboti.us/download/mujoco200_linux.zip\n",
        "\n",
        "!wget https://roboti.us/file/mjkey.txt\n"
      ]
    },
    {
      "cell_type": "code",
      "execution_count": null,
      "metadata": {
        "id": "WcXVniz_p4RN"
      },
      "outputs": [],
      "source": [
        "\n",
        "!mkdir /root/.mujoco\n",
        "\n",
        "### mujoco 210\n",
        "#!tar -xf mujoco210-linux-x86_64.tar.gz -C /.mujoco/\n",
        "#!ls -alh /.mujoco/mujoco210\n",
        "\n",
        "### mujoco 200\n",
        "!unzip mujoco200_linux.zip -d /root/.mujoco/\n",
        "!cp -r /root/.mujoco/mujoco200_linux /root/.mujoco/mujoco200\n",
        "\n",
        "!mv mjkey.txt /root/.mujoco/\n",
        "\n",
        "!cp -r /root/.mujoco/mujoco200/bin/* /usr/lib/\n",
        "\n"
      ]
    },
    {
      "cell_type": "code",
      "execution_count": null,
      "metadata": {
        "id": "-X3JOM3RTcPO"
      },
      "outputs": [],
      "source": [
        "\n",
        "!ls -alh /root/.mujoco/\n"
      ]
    },
    {
      "cell_type": "code",
      "execution_count": null,
      "metadata": {
        "id": "YVQWcww_uZMo"
      },
      "outputs": [],
      "source": [
        "\n",
        "%env LD_LIBRARY_PATH=$LD_LIBRARY_PATH:/root/.mujoco/mujoco200/bin\n"
      ]
    },
    {
      "cell_type": "code",
      "execution_count": null,
      "metadata": {
        "id": "AviuDDxpqhOs"
      },
      "outputs": [],
      "source": [
        "\n",
        "###### mujoco-py setup ######\n",
        "\n",
        "!pip install mujoco_py==2.0.2.8\n",
        "\n"
      ]
    },
    {
      "cell_type": "code",
      "execution_count": null,
      "metadata": {
        "id": "duUbqfKEordx"
      },
      "outputs": [],
      "source": [
        "\n",
        "###### D4RL setup ######\n",
        "\n",
        "## !pip uninstall dm_control==0.0.364896371\n",
        "\n",
        "!git clone https://github.com/rail-berkeley/d4rl.git\n",
        "\n",
        "### edit dm_control version in d4rl setup.py\n",
        "!sed -i \"s;dm_control @ git+git://github.com/deepmind/dm_control@master#egg=dm_control;dm_control==0.0.364896371;g\" /content/d4rl/setup.py\n",
        "\n",
        "### edit mjrl install in d4rl setup.py to use github's new https protocol instead of git SSH\n",
        "!sed -i \"s;mjrl @ git+git://github.com/aravindr93/mjrl@master#egg=mjrl;mjrl @ git+https://github.com/aravindr93/mjrl@master#egg=mjrl;g\" /content/d4rl/setup.py\n",
        "\n",
        "!pip install -e d4rl/.\n",
        "\n",
        "\n"
      ]
    },
    {
      "cell_type": "code",
      "execution_count": 9,
      "metadata": {
        "id": "jVrmCbNMAwQk"
      },
      "outputs": [],
      "source": [
        "\n",
        "###### restart runtime ######\n",
        "\n",
        "exit()\n"
      ]
    }
  ],
  "metadata": {
    "accelerator": "GPU",
    "colab": {
      "collapsed_sections": [
        "Euib_RmfOiT3",
        "aBD3fRknjEj6",
        "9TpGEYTblzQc",
        "wNJM0LG1iziA",
        "gLHjV3q28LNr",
        "pewE01Ca4BG0",
        "QXXrs_PjAHrN",
        "wxcJqnb1Him4"
      ],
      "name": "min_decision_transformer.ipynb",
      "provenance": []
    },
    "kernelspec": {
      "display_name": "Python 3",
      "name": "python3"
    },
    "language_info": {
      "name": "python"
    }
  },
  "nbformat": 4,
  "nbformat_minor": 0
}
